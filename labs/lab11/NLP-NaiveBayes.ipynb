{
 "cells": [
  {
   "cell_type": "markdown",
   "metadata": {},
   "source": [
    "# Prelucrarea Limbajului Natural: Analiza Sentimentelor\n",
    " - Tudor Berariu\n",
    " - Andrei Olaru\n",
    "\n",
    "Scopul acestui laborator îl reprezintă rezolvarea unei probleme ce implică analiza unor documente în limbaj natural și învățarea unui algoritm simplu de clasificare: **Naive Bayes**.\n",
    "\n",
    "## Analiza Sentimentelor\n",
    "\n",
    "O serie de probleme de inteligență artificială presupun asocierea unei clase unui document în limbaj natural. Exemple de astfel de probleme sunt: **clasificarea** email-urilor în *spam* sau *ham* sau a recenziilor unor filme în *pozitive* sau *negative*. În laboratorul de astăzi vom aborda problema din urmă.\n",
    "\n",
    "Folosind setul de date de aici: http://www.cs.cornell.edu/people/pabo/movie-review-data/ (2000 de recenzii de film), vom construi un model care să discrimineze între recenziile pozitive și recenziile negative."
   ]
  },
  {
   "cell_type": "markdown",
   "metadata": {},
   "source": [
    "## Algoritmul Naive Bayes\n",
    "\n",
    "### Clasificare\n",
    "\n",
    "Având un set de date $\\langle \\mathbf{X}, \\mathbf{T} \\rangle$ compus din $N$ exemple $\\mathbf{x}^{(i)}$, $1 \\le i \\le N$, descrise prin $k$ atribute $(x^{(i)}_1, x^{(i)}_2, \\ldots, x^{(i)}_k)$ și etichetate cu o clasă $t^{(i)} \\in \\mathcal{C}$, se cere construirea unui clasificator care să eticheteze exemple noi.\n",
    "\n",
    "### Naive Bayes\n",
    "\n",
    "**Naive Bayes** reprezintă o *metodă statistică inductivă* de clasificare, bazată pe Teorema lui Bayes pentru exprimarea relației dintre probabilitatea *a priori* și probabilitatea *posterioară* ale unei ipoteze.\n",
    "\n",
    "$$P(c \\vert \\mathbf{x}) = \\frac{P(\\mathbf{x} \\vert c) \\cdot P(c)}{P(\\mathbf{x})}$$\n",
    "\n",
    " - $P(c)$ reprezintă probabilitatea *a priori* a clasei $c$\n",
    " - $P(c \\vert \\mathbf{x})$ reprezintă probabilitatea *a posteriori* (după observarea lui $\\mathbf{x}$)\n",
    " - $P(\\mathbf{x} \\vert c)$ reprezitnă probabilitatea ca $\\mathbf{x}$ să aparțină clasei $c$ (*verosimilitatea*)\n",
    " \n",
    "Un clasificator **Naive Bayes** funcționează pe principiul verosimilității maxime (eng. *maximum likelihood*), deci alege clasa $c$ pentru care probabilitatea $P(c \\vert x)$ este maximă:\n",
    "\n",
    "$$c_{MAP} = \\underset{c \\in \\mathcal{C}}{\\arg\\max} P(c \\vert \\mathbf{x}) = \\underset{c \\in \\mathcal{C}}{\\arg\\max} \\frac{P(\\mathbf{x} \\vert c) \\cdot P(c)}{P(x)} = \\underset{c \\in \\mathcal{C}}{\\arg\\max} P(\\mathbf{x} \\vert c) \\cdot P(c)$$\n",
    "\n",
    "Cum fiecare exemplu $\\mathbf{x}$ este descris prin $K$ atribute:\n",
    "\n",
    "$$c_{MAP} = \\underset{c \\in \\mathcal{C}}{\\arg\\max} P(x_1, x_2, \\ldots x_K \\vert c) \\cdot P(c)$$\n",
    "\n",
    "Algoritmul **Naive Bayes** face o presupunere simplificatoare, și anume, că atributele unui exemplu sunt *condițional independente* odată ce clasa este cunoscută:\n",
    "\n",
    "$$P(\\mathbf{x} \\vert c) = \\displaystyle\\prod_i P(x_i \\vert c)$$\n",
    "\n",
    "Astfel clasa pe care o prezice un clasificator **Naive Bayes** este:\n",
    "\n",
    "$$c_{NB} = \\underset{c \\in \\mathcal{C}}{\\arg\\max} P(c) \\cdot \\displaystyle \\prod_{i}^{K} P(x_i \\vert c)$$\n",
    "\n"
   ]
  },
  {
   "cell_type": "markdown",
   "metadata": {},
   "source": [
    "## Clasificarea documentelor\n",
    "\n",
    "Pentru clasificare documentele vor fi reprezentate prin vectori binari de lungimea vocabularului (eng. *bag of words*). Practic fiecare document va avea 1 pe pozițiile corspunzătoare cuvintelor pe care le conține și 0 pe toate celelalte poziții. Dimensiunea unui exemplu $\\mathbf{x}$ este, deci, numărul de cuvinte diferite din setul de date.\n",
    "\n",
    "### Estimarea parametrilor modelului Naive Bayes\n",
    "\n",
    "Probabilitatea _a priori_ pentru o clasă $c \\in \\mathcal{C}$:\n",
    "\n",
    "$$P(c) = \\frac{\\#\\text{ docs in class }c}{\\#\\text{ total docs}}$$\n",
    "\n",
    "$P(x_i \\vert c)$ va reprezenta probabilitatea de a apărea cuvântul $x_i$ într-un document din clasa $c$ și o vom estima cu raportul dintre numărul de apariții ale cuvântului $x_i$ în documentele din clasa $c$ și numărul total de cuvinte ale acelor documente:\n",
    "\n",
    "$$P(x_i \\vert c) = \\frac{\\#\\text{ aparitii ale lui } x_i \\text{ in documente din clasa } c}{\\#\\text{ numar total de cuvinte in documentele din clasa } c}$$\n",
    "\n",
    "Deoarece este posibil ca un cuvant _rar_ ce apare într-un exemplu de test să nu se găsească deloc într-una din clase, se poate întâmpla ca un astfel de _accident_ să anuleze complet o probabilitate. Dacă un singur factor al unui produs este zero, atunci produsul devine zero. De aceea vom folosi netezire Laplace (eng. _Laplace smoothing_):\n",
    "\n",
    "$$P(x_i \\vert c) = \\frac{\\#\\text{ aparitii ale lui } x_i \\text{ in documente din clasa } c + \\alpha}{\\#\\text{ numar total de cuvinte in documentele din clasa } c + \\vert \\mathit{Voc} \\vert \\cdot \\alpha}$$\n",
    "\n",
    "unde $\\mathit{Voc}$ este dimensiunea vocabularului."
   ]
  },
  {
   "cell_type": "markdown",
   "metadata": {},
   "source": [
    "## Setul de date\n",
    "\n",
    " 1. Descărcați setul de date **polarity dataset v2.0** de aici http://www.cs.cornell.edu/people/pabo/movie-review-data/\n",
    " 2. Dezarhivați fișierul **review_polarity.tar.gz** și rearhivați directorul review_polarity ca zip.\n",
    " 3. Plasați / încărcați **review_polarity.zip** în directorul de lucru."
   ]
  },
  {
   "cell_type": "code",
   "execution_count": 93,
   "metadata": {},
   "outputs": [
    {
     "name": "stdout",
     "output_type": "stream",
     "text": [
      "Recenzii pozitive: 1000; Recenzii negative: 1000\n"
     ]
    }
   ],
   "source": [
    "import zipfile\n",
    "\n",
    "zipFile = zipfile.ZipFile(\"review_polarity.zip\")\n",
    "\n",
    "pos_files = [f for f in zipFile.namelist() if '/pos/cv' in f]\n",
    "neg_files = [f for f in zipFile.namelist() if '/neg/cv' in f]\n",
    "\n",
    "pos_files.sort()\n",
    "neg_files.sort()\n",
    "\n",
    "print(\"Recenzii pozitive: \" + str(len(pos_files)) + \"; Recenzii negative: \" + str(len(neg_files)))\n",
    "\n",
    "# Raspunsul asteptat: \"Recenzii pozitive: 1000; Recenzii negative: 1000\"\n",
    "assert(len(pos_files) == 1000 and len(neg_files) == 1000)"
   ]
  },
  {
   "cell_type": "markdown",
   "metadata": {},
   "source": [
    "### Setul de antrenare și setul de testare\n",
    "\n",
    "Vom folosi 80% din datele din fiecare clasă pentru antrenare și 20% pentru testare."
   ]
  },
  {
   "cell_type": "code",
   "execution_count": 94,
   "metadata": {
    "collapsed": true
   },
   "outputs": [],
   "source": [
    "tr_pos_no = int(.8 * len(pos_files))\n",
    "tr_neg_no = int(.8 * len(neg_files))\n",
    "\n",
    "from random import shuffle\n",
    "shuffle(pos_files)\n",
    "shuffle(neg_files)\n",
    "\n",
    "pos_train = pos_files[:tr_pos_no] # Recenzii pozitive pentru antrenare\n",
    "pos_test  = pos_files[tr_pos_no:] # Recenzii pozitive pentru testare\n",
    "neg_train = neg_files[:tr_neg_no] # Recenzii negative pentru antrenare\n",
    "neg_test  = neg_files[tr_neg_no:] # Recenzii negative pentru testare"
   ]
  },
  {
   "cell_type": "markdown",
   "metadata": {},
   "source": [
    "## Construirea vocabularului și calculul parametrilor\n",
    "\n",
    "Funcția `parse_document` primește calea către unul dinte fișierele aflate în arhivă și întoarce cuvintele din acest fișier (exceptând cuvintele cu o singură literă și pe cele din lista `STOP_WORDS`. Implementați funcția `count_words` astfel încât să întoarcă un dicționar cu o intrare pentru fiecare cuvânt care să conțină un tuplu cu două valori: numărul de apariții ale acelui cuvânt în rencezii pozitive și numărul de apariții în recenzii negative. În afara acelui dicționar se vor întoarce și numărul total de cuvinte din recenziile pozitive și numărul total de cuvinte din recenziile negative."
   ]
  },
  {
   "cell_type": "code",
   "execution_count": 95,
   "metadata": {},
   "outputs": [
    {
     "name": "stdout",
     "output_type": "stream",
     "text": [
      "Vocabularul are  44919  cuvinte.\n",
      "295519  cuvinte in recenziile pozitive si  263400  cuvinte in recenziile negative\n",
      "Cuvantul 'beautiful' are  (170, 77)  aparitii.\n",
      "Cuvantul 'awful' are  (18, 85)  aparitii.\n"
     ]
    }
   ],
   "source": [
    "STOP_WORDS = []\n",
    "STOP_WORDS = [line.strip() for line in open(\"Lab12-stop_words.txt\")]\n",
    "\n",
    "import re\n",
    "\n",
    "def parse_document(path):\n",
    "    for word in re.findall(r\"[-\\w']+\", zipFile.read(path).decode(\"utf-8\")):\n",
    "        if len(word) > 1 and word not in STOP_WORDS:\n",
    "            yield word\n",
    "\n",
    "def count_words():\n",
    "    vocabulary = {}\n",
    "    pos_words_no = 0\n",
    "    neg_words_no = 0\n",
    "    \n",
    "    # ------------------------------------------------------\n",
    "    # <TODO 1> numrati aparitiile in documente pozitive si\n",
    "    # in documente negative ale fiecarui cuvant, precum si numarul total\n",
    "    # de cuvinte din fiecare tip de recenzie\n",
    "    # ------------------------------------------------------\n",
    "\n",
    "    for path in pos_train:\n",
    "        for word in parse_document(path):\n",
    "            vocabulary[word] = vocabulary.get(word, (0, 0))\n",
    "            vocabulary[word] = (vocabulary[word][0] + 1, vocabulary[word][1])\n",
    "            pos_words_no += 1\n",
    "\n",
    "    for path in neg_train:\n",
    "        for word in parse_document(path):\n",
    "            vocabulary[word] = vocabulary.get(word, (0, 0))\n",
    "            vocabulary[word] = (vocabulary[word][0], vocabulary[word][1] + 1)\n",
    "            neg_words_no += 1\n",
    "    \n",
    "    return (vocabulary, pos_words_no, neg_words_no)\n",
    "\n",
    "# -- VERIFICARE --\n",
    "training_result_words = count_words()\n",
    "\n",
    "(voc, p_no, n_no) = training_result_words\n",
    "print(\"Vocabularul are \", len(voc), \" cuvinte.\")\n",
    "print(p_no, \" cuvinte in recenziile pozitive si \", n_no, \" cuvinte in recenziile negative\")\n",
    "print(\"Cuvantul 'beautiful' are \", voc.get(\"beautiful\", (0, 0)), \" aparitii.\")\n",
    "print(\"Cuvantul 'awful' are \", voc.get(\"awful\", (0, 0)), \" aparitii.\")\n",
    "\n",
    "# Daca se comentează liniile care reordonează aleator listele cu exemplele pozitive și negative,\n",
    "# rezultatul așteptat este:\n",
    "#\n",
    "# Vocabularul are  44895  cuvinte.\n",
    "# 526267  cuvinte in recenziile pozitive si  469812  cuvinte in recenziile negative\n",
    "# Cuvantul 'beautiful' are  (165, 75)  aparitii.\n",
    "# Cuvantul 'awful' are  (16, 89)  aparitii."
   ]
  },
  {
   "cell_type": "markdown",
   "metadata": {},
   "source": [
    "### Predicția sentimentului unei recenzii noi\n",
    "\n",
    "Implementați funcția `predict` care primește parametrii `params` (vocabularul, numărul total de cuvinte din recenziile pozitive și numărul total de cuvinte din recenziile negative) și `path` (calea către o recenzie din cadrul arhivei) și întoarce clasa mai probabilă și logaritmul acelei probabilități. Al treilea argument (opțional) al funcției `predict` este coeficientul pentru netezire Laplace.\n",
    "\n",
    "Așa cum a fost explicat anterior, clasa pe care o prezice un clasificator **Naive Bayes** este dată de următoarea expresie:\n",
    "\n",
    "$$c_{NB} = \\underset{c \\in \\mathcal{C}}{\\arg\\max} P(c) \\cdot \\displaystyle \\prod_{i}^{K} P(x_i \\vert c)$$\n",
    "\n",
    "Pentru a evita lucrul cu numere foarte mici ce pot rezulta din produsul multor valori subunitare, vom logaritma expresiile date:\n",
    "\n",
    "$$c_{NB} = \\underset{c \\in \\mathcal{C}}{\\arg\\max} \\log(P(c)) + \\displaystyle\\sum_{i}^{K} \\log(P(x_i \\vert c))$$\n",
    "\n",
    "Pentru calculul probabilitatilor, vedeti sectiunea \"Estimarea parametrilor modelului Naive Bayes\", mai sus. În cod, `log_pos` și `log_neg` trebuie însumate cu logaritmul pentru fiecare exemplu -- $ \\log(P(c)) $ este deja adunat.\n"
   ]
  },
  {
   "cell_type": "code",
   "execution_count": 96,
   "metadata": {},
   "outputs": [
    {
     "name": "stdout",
     "output_type": "stream",
     "text": [
      " \" psycho meets the exorcist with no holds barred \" . \n",
      "a blurb like that sounds like desperate publicity for some low budget , third rate rip-off . \n",
      "but no , this tacky plug comes from the poster for suspiria , perhaps italian horror director dario argento's most consistently successful film . \n",
      "what impresses most in re-watching this surrealistic , supernatural thriller is that argento's directorial flair and stylish visuals are matched by a near-fully coherent narrative . \n",
      "screenplays have always been his achilles heel ; confusing subplots , gaping holes , totally illogical incidents and reactions . \n",
      "no question : argento has always been a better director than a writer . \n",
      "fortunately , he gets the plotting pretty well right with suspiria , taking his cue from a book by thomas de quincey called \" suspiria de profundis \" . \n",
      "the film's storyline suffers from no major lapses in logic , provided one can accept the premise of a ballet school being a front for a coven of witches . \n",
      "jessica harper plays an american who travels to germany to further her studies in dance . \n",
      "arriving at the school late at night in driving rain , she sees a girl leave and run into the storm in a clearly distressed state . \n",
      "what happens next - and i don't make the comparison lightly - is a murder sequence that for intensity , shock value and sheer directorial flair ranks alongside alfred hitchcock's infamous shower scene in psycho . \n",
      "it's quite possibly a homage to hitchcock , but with its baroque sets , graphic gore and brilliantly chaotic musical accompaniment by the gothic rock group goblin , this stunning sequence remains very much argento's own . \n",
      "though nothing else quite equals the intensity of suspiria's opening 15 minutes , the film continues to be never anything less than engrossing as harper begins her own investigations and slowly comes to realise this is no ordinary ballet school . \n",
      "we meet an assortment of slightly sinister characters , most notably the head ballet teacher played by alida valli in another one of those delicious sour-old-matriarch-from-hell roles she does so well . \n",
      "several more violent murders ensue , including a startling scene in a deserted square where a blind man is . . . well , i wouldn't want to spoil things now , would i ? and the film's climax , staged amid secret corridors and hidden rooms , has a gothic ghoulishness that's most impressive . \n",
      "the english language versions of most argento movies usually suffer trimming , and not just for the violence - deep red and phenomena , for example , have been appallingly hacked about . \n",
      "fortunately , the cuts to suspiria ( about 7 minutes in this version ) have not adversely affected the film . \n",
      "the dubbing of the italian actors into english is quite competently done , too , excepting one appalling and unintentionally hilarious effort with a conversation between harper and a professor about the history of witchcraft in the region . \n",
      "and the soundtrack ? \n",
      "it is interesting to imagine what power the film would have lost if it had been scored by someone else . \n",
      "as it stands , the use of goblin's music in suspiria is outstanding . \n",
      "apparently , argento played the soundtrack on location while filming so the actors could hear the music as they acted out their parts . \n",
      "a stereo video player adds greatly to the viewer's overall experience . \n",
      "even better , see suspiria in a cinema , where you'll get the added bonus of widescreen . \n",
      "and the colours ! \n",
      "deep reds , eerie blues , a superb use of shadow and contrast . \n",
      "the cinematography of luciano tovoli , whose more recent credits include reversal of fortune and single white female , is uniformly superb . \n",
      "a nod also must go to production designer giuseppe bassan for his wonderful baroque interiors . \n",
      "these kinds of settings are crucial to the atmosphere of argento's more surreal excursions , the other most notable example being inferno ( 1980 ) on which bassan also worked . \n",
      "suspiria is the film that broke dario argento into the major league of european directors , and it is fully deserving of its cult status . \n",
      "the gore is at times a little excessive and overstated - that's always been one of argento's shortcomings - but overall this is a fascinating , compelling example of italian horror . \n",
      "\n"
     ]
    },
    {
     "data": {
      "text/plain": [
       "('pos', -3586.684842792306)"
      ]
     },
     "execution_count": 96,
     "metadata": {},
     "output_type": "execute_result"
    }
   ],
   "source": [
    "from math import log\n",
    "\n",
    "def predict(params, path, alpha = 1):\n",
    "    (vocabulary, pos_words_no, neg_words_no) = params\n",
    "    log_pos = log(0.5)\n",
    "    log_neg = log(0.5)\n",
    "    \n",
    "    # ----------------------------------------------------------------------\n",
    "    # <TODO 2> Calculul logaritmilor probabilităților\n",
    "    \n",
    "    # ----------------------------------------------------------------------\n",
    "    \n",
    "    for word in parse_document(path):\n",
    "        pos_word_no, neg_word_no = vocabulary.get(word, (0, 0))\n",
    "        log_pos += log((pos_word_no + alpha) / (pos_words_no + alpha * len(vocabulary)))\n",
    "        log_neg += log((neg_word_no + alpha) / (neg_words_no + alpha * len(vocabulary)))\n",
    "\n",
    "    if log_pos > log_neg:\n",
    "        return \"pos\", log_pos\n",
    "    else:\n",
    "        return \"neg\", log_neg\n",
    "\n",
    "# -- VERIFICARE --\n",
    "print(zipFile.read(pos_test[14]).decode(\"utf-8\"))\n",
    "predict(training_result_words, pos_test[14])\n",
    "\n",
    "# Daca se comentează liniile care reordonează aleator listele cu exemplele pozitive și negative,\n",
    "# rezultatul așteptat este:\n",
    "#\n",
    "# ('pos', -1790.27088356391) pentru un film cu Hugh Grant și Julia Roberts (o mizerie siropoasă)\n",
    "#\n",
    "# Recenzia este clasificată corect ca fiind pozitivă."
   ]
  },
  {
   "cell_type": "markdown",
   "metadata": {},
   "source": [
    "## 3. Evaluarea modelului\n",
    "\n",
    "Pentru a evalua modelul vom calcula acuratețea acestuia și matricea de confuzie, folosind datele de test (`pos_test` și `neg_test`).\n",
    "\n",
    "[Vedeți aici despre matricea de confuzie](https://en.wikipedia.org/wiki/Confusion_matrix)"
   ]
  },
  {
   "cell_type": "code",
   "execution_count": 97,
   "metadata": {},
   "outputs": [
    {
     "name": "stdout",
     "output_type": "stream",
     "text": [
      "Acuratetea pe setul de date de test:  79.75 %. Matricea de confuzie:\n",
      "    |     pos      |     neg    \n",
      "--- + ------------ + ------------\n",
      "pos |     155      |      45    \n",
      "neg |      36      |     164    \n"
     ]
    }
   ],
   "source": [
    "def evaluate(params, prediction_func):\n",
    "    conf_matrix = {}\n",
    "    conf_matrix[\"pos\"] = {\"pos\": 0, \"neg\": 0}\n",
    "    conf_matrix[\"neg\"] = {\"pos\": 0, \"neg\": 0}\n",
    "    accuracy = 0\n",
    "    \n",
    "    # ----------------------------------------------------------------------\n",
    "    # <TODO 3> : Calcularea acurateței și a matricei de confuzie\n",
    "    \n",
    "    #------------------------------------------------------------\n",
    "\n",
    "    for path in pos_test:\n",
    "        conf_matrix[\"pos\"][prediction_func(params, path)[0]] += 1\n",
    "\n",
    "    for path in neg_test:\n",
    "        conf_matrix[\"neg\"][prediction_func(params, path)[0]] += 1\n",
    "\n",
    "    accuracy = (conf_matrix[\"pos\"][\"pos\"] + conf_matrix[\"neg\"][\"neg\"]) / (len(pos_test) + len(neg_test))        \n",
    "    \n",
    "    return accuracy, conf_matrix\n",
    "# -----------------------------------------------------------\n",
    "\n",
    "def print_confusion_matrix(cm):\n",
    "    print(\"    | \", \"{0:^10}\".format(\"pos\"), \" | \", \"{0:^10}\".format(\"neg\"))\n",
    "    print(\"{0:-^3}\".format(\"\"), \"+\", \"{0:-^12}\".format(\"\"), \"+\", \"{0:-^12}\".format(\"-\", fill=\"-\"))\n",
    "    print(\"pos | \", \"{0:^10}\".format(cm[\"pos\"][\"pos\"]), \" | \", \"{0:^10}\".format(cm[\"pos\"][\"neg\"]))\n",
    "    print(\"neg | \", \"{0:^10}\".format(cm[\"neg\"][\"pos\"]), \" | \", \"{0:^10}\".format(cm[\"neg\"][\"neg\"]))\n",
    "\n",
    "\n",
    "# -- VERIFICARE --\n",
    "(acc_words, cm_words) = evaluate(training_result_words, predict)\n",
    "print(\"Acuratetea pe setul de date de test: \", acc_words * 100, \"%. Matricea de confuzie:\")\n",
    "print_confusion_matrix(cm_words)\n",
    "\n",
    "# Daca se comentează liniile care reordonează aleator listele cu exemplele pozitive și negative,\n",
    "# rezultatul așteptat este:\n",
    "#\n",
    "# Acuratetea pe setul de date de test:  80.5 %. Matricea de confuzie:\n",
    "#     |     pos      |     neg    \n",
    "# --- + ------------ + ------------\n",
    "# pos |     155      |      45    \n",
    "# neg |      33      |     167"
   ]
  },
  {
   "cell_type": "markdown",
   "metadata": {},
   "source": [
    "## 4. Un model mai bun? Să folosim bigrame? Da!\n",
    "\n",
    "Implementați funcția `count_bigrams`, similară cu `count_words`, doar că de data aceasta dicționarul va conține bigramele din text. Funcția va întoarce tot trei elemente: dicționarul cu aparițiile în recenzii pozitive și în recenzii negative ale bigramelor, numărul total de bigrame din recenziile pozitive și numărul total de bigrame din recenziile negative.\n",
    "\n",
    "Salvați o bigramă prin concatenarea primului cuvânt, semnului \":\" și a celui de-al doilea cuvânt. De exemplu: `\"texas:ranger\"`."
   ]
  },
  {
   "cell_type": "code",
   "execution_count": 98,
   "metadata": {},
   "outputs": [
    {
     "name": "stdout",
     "output_type": "stream",
     "text": [
      "Tabelul are  435731  bigrame.\n",
      "294719  bigrame in recenziile pozitive si  262600  bigrame in recenziile negative\n",
      "Bigrama 'beautiful actress' are  (2, 0)  aparitii.\n",
      "Bigrama 'awful movie' are  (1, 1)  aparitii.\n"
     ]
    }
   ],
   "source": [
    "def count_bigrams():\n",
    "    bigrams = {}\n",
    "    pos_bigrams_no = 0\n",
    "    neg_bigrams_no = 0\n",
    "\n",
    "    # ----------------------------------------------------------------------\n",
    "    # <TODO 4>: Numarati bigramele\n",
    "    \n",
    "    #-----------------------------------------------\n",
    "\n",
    "    for path in pos_train:\n",
    "        words = list(parse_document(path))\n",
    "        for i in range(len(words) - 1):\n",
    "            bigram = words[i] + \":\" + words[i + 1]\n",
    "            bigrams[bigram] = bigrams.get(bigram, (0, 0))\n",
    "            bigrams[bigram] = (bigrams[bigram][0] + 1, bigrams[bigram][1])\n",
    "            pos_bigrams_no += 1\n",
    "    \n",
    "    for path in neg_train:\n",
    "        words = list(parse_document(path))\n",
    "        for i in range(len(words) - 1):\n",
    "            bigram = words[i] + \":\" + words[i + 1]\n",
    "            bigrams[bigram] = bigrams.get(bigram, (0, 0))\n",
    "            bigrams[bigram] = (bigrams[bigram][0], bigrams[bigram][1] + 1)\n",
    "            neg_bigrams_no += 1\n",
    "    \n",
    "    return bigrams, pos_bigrams_no, neg_bigrams_no\n",
    "\n",
    "# -- VERIFICARE --\n",
    "training_result_bigrams = count_bigrams()\n",
    "\n",
    "(big, pos_b, neg_b) = training_result_bigrams\n",
    "print(\"Tabelul are \", len(big), \" bigrame.\")\n",
    "print(pos_b, \" bigrame in recenziile pozitive si \", neg_b, \" bigrame in recenziile negative\")\n",
    "print(\"Bigrama 'beautiful actress' are \", big.get(\"beautiful:actress\", (0, 0)), \" aparitii.\")\n",
    "print(\"Bigrama 'awful movie' are \", big.get(\"awful:movie\", (0, 0)), \" aparitii.\")\n",
    "\n",
    "# Daca se comentează liniile care reordonează aleator listele cu exemplele pozitive și negative,\n",
    "# rezultatul așteptat este:\n",
    "#\n",
    "# Tabelul are  428997  bigrame.\n",
    "# 525467  bigrame in recenziile pozitive si  469012  bigrame in recenziile negative\n",
    "# Bigrama 'beautiful actress' are  (2, 0)  aparitii.\n",
    "# Bigrama 'awful movie' are  (1, 4)  aparitii."
   ]
  },
  {
   "cell_type": "markdown",
   "metadata": {},
   "source": [
    "### Funcția de predicție folosind bigrame\n",
    "\n",
    "Implementați funcția `predict2` care să calculeze logaritmul probabilității fiecărei clase pe baza bigramelor din text. Trebuie să calculați `log_pos` și `log_neg`."
   ]
  },
  {
   "cell_type": "code",
   "execution_count": 99,
   "metadata": {},
   "outputs": [
    {
     "name": "stdout",
     "output_type": "stream",
     "text": [
      " \" psycho meets the exorcist with no holds barred \" . \n",
      "a blurb like that sounds like desperate publicity for some low budget , third rate rip-off . \n",
      "but no , this tacky plug comes from the poster for suspiria , perhaps italian horror director dario argento's most consistently successful film . \n",
      "what impresses most in re-watching this surrealistic , supernatural thriller is that argento's directorial flair and stylish visuals are matched by a near-fully coherent narrative . \n",
      "screenplays have always been his achilles heel ; confusing subplots , gaping holes , totally illogical incidents and reactions . \n",
      "no question : argento has always been a better director than a writer . \n",
      "fortunately , he gets the plotting pretty well right with suspiria , taking his cue from a book by thomas de quincey called \" suspiria de profundis \" . \n",
      "the film's storyline suffers from no major lapses in logic , provided one can accept the premise of a ballet school being a front for a coven of witches . \n",
      "jessica harper plays an american who travels to germany to further her studies in dance . \n",
      "arriving at the school late at night in driving rain , she sees a girl leave and run into the storm in a clearly distressed state . \n",
      "what happens next - and i don't make the comparison lightly - is a murder sequence that for intensity , shock value and sheer directorial flair ranks alongside alfred hitchcock's infamous shower scene in psycho . \n",
      "it's quite possibly a homage to hitchcock , but with its baroque sets , graphic gore and brilliantly chaotic musical accompaniment by the gothic rock group goblin , this stunning sequence remains very much argento's own . \n",
      "though nothing else quite equals the intensity of suspiria's opening 15 minutes , the film continues to be never anything less than engrossing as harper begins her own investigations and slowly comes to realise this is no ordinary ballet school . \n",
      "we meet an assortment of slightly sinister characters , most notably the head ballet teacher played by alida valli in another one of those delicious sour-old-matriarch-from-hell roles she does so well . \n",
      "several more violent murders ensue , including a startling scene in a deserted square where a blind man is . . . well , i wouldn't want to spoil things now , would i ? and the film's climax , staged amid secret corridors and hidden rooms , has a gothic ghoulishness that's most impressive . \n",
      "the english language versions of most argento movies usually suffer trimming , and not just for the violence - deep red and phenomena , for example , have been appallingly hacked about . \n",
      "fortunately , the cuts to suspiria ( about 7 minutes in this version ) have not adversely affected the film . \n",
      "the dubbing of the italian actors into english is quite competently done , too , excepting one appalling and unintentionally hilarious effort with a conversation between harper and a professor about the history of witchcraft in the region . \n",
      "and the soundtrack ? \n",
      "it is interesting to imagine what power the film would have lost if it had been scored by someone else . \n",
      "as it stands , the use of goblin's music in suspiria is outstanding . \n",
      "apparently , argento played the soundtrack on location while filming so the actors could hear the music as they acted out their parts . \n",
      "a stereo video player adds greatly to the viewer's overall experience . \n",
      "even better , see suspiria in a cinema , where you'll get the added bonus of widescreen . \n",
      "and the colours ! \n",
      "deep reds , eerie blues , a superb use of shadow and contrast . \n",
      "the cinematography of luciano tovoli , whose more recent credits include reversal of fortune and single white female , is uniformly superb . \n",
      "a nod also must go to production designer giuseppe bassan for his wonderful baroque interiors . \n",
      "these kinds of settings are crucial to the atmosphere of argento's more surreal excursions , the other most notable example being inferno ( 1980 ) on which bassan also worked . \n",
      "suspiria is the film that broke dario argento into the major league of european directors , and it is fully deserving of its cult status . \n",
      "the gore is at times a little excessive and overstated - that's always been one of argento's shortcomings - but overall this is a fascinating , compelling example of italian horror . \n",
      "\n"
     ]
    },
    {
     "data": {
      "text/plain": [
       "('neg', -5171.862123332425)"
      ]
     },
     "execution_count": 99,
     "metadata": {},
     "output_type": "execute_result"
    }
   ],
   "source": [
    "def predict2(params, path, alpha = 1):\n",
    "    (bigrams, pos_bigrams_no, neg_bigrams_no) = params\n",
    "    log_pos = log(0.5)\n",
    "    log_neg = log(0.5)\n",
    "    \n",
    "    # ----------------------------------------------------------------------\n",
    "    # <TODO 5> Calculul logaritmilor probabilităților folosind bigramele\n",
    "    \n",
    "    # ----------------------------------------------------------------------\n",
    "    \n",
    "    words = list(parse_document(path))\n",
    "    for i in range(len(words) - 1):\n",
    "        bigram = words[i] + \":\" + words[i + 1]\n",
    "        pos_bigram_no, neg_bigram_no = bigrams.get(bigram, (0, 0))\n",
    "        log_pos += log((pos_bigram_no + alpha) / (pos_bigrams_no + alpha * len(bigrams)))\n",
    "        log_neg += log((neg_bigram_no + alpha) / (neg_bigrams_no + alpha * len(bigrams)))\n",
    "    \n",
    "    if log_pos > log_neg:\n",
    "        return \"pos\", log_pos\n",
    "    else:\n",
    "        return \"neg\", log_neg\n",
    "    \n",
    "# -- VERIFICARE --\n",
    "print(zipFile.read(pos_test[14]).decode(\"utf-8\"))\n",
    "predict2(training_result_bigrams, pos_test[14])\n",
    "\n",
    "# Daca se comentează liniile care reordonează aleator listele cu exemplele pozitive și negative,\n",
    "# rezultatul așteptat este:\n",
    "#\n",
    "# ('pos', -3034.428732037113) pentru același film cu Hugh Grant"
   ]
  },
  {
   "cell_type": "code",
   "execution_count": 100,
   "metadata": {},
   "outputs": [
    {
     "name": "stdout",
     "output_type": "stream",
     "text": [
      "Acuratetea pe setul de date de test, cu bigrame:  71.0 %. Matricea de confuzie:\n",
      "    |     pos      |     neg    \n",
      "--- + ------------ + ------------\n",
      "pos |      97      |     103    \n",
      "neg |      13      |     187    \n"
     ]
    }
   ],
   "source": [
    "# -- VERIFICARE --\n",
    "(acc_bigrams, cm_bigrams) = evaluate(training_result_bigrams, predict2)\n",
    "print(\"Acuratetea pe setul de date de test, cu bigrame: \", acc_bigrams * 100, \"%. Matricea de confuzie:\")\n",
    "print_confusion_matrix(cm_bigrams)\n",
    "\n",
    "# Daca se comentează liniile care reordonează aleator listele cu exemplele pozitive și negative,\n",
    "# rezultatul așteptat este:\n",
    "#\n",
    "# Acuratetea pe setul de date de test:  84.5 %. Matricea de confuzie:\n",
    "#     |     pos      |     neg    \n",
    "# --- + ------------ + ------------\n",
    "# pos |     161      |      39    \n",
    "# neg |      23      |     177   "
   ]
  },
  {
   "cell_type": "markdown",
   "metadata": {},
   "source": [
    "## La final...\n",
    "\n",
    " 1. Decomentați liniile care reordonează aleator listele cu exemplele pozitive și cele negative (secțiunea \"Setul de antrenare și setul de testare\"). Rulați de mai multe ori. Este întotdeauna mai bun modelul cu bigrame? Acuratețea variază mult de la o rulare la alta?\n",
    " 2. Încercați să eliminați cuvintele de legătură (linia cu `STOP_WORDS`, din secțiunea \"Construirea vocabularului...\"). Ce impact are asupra performanței celor două modele?"
   ]
  },
  {
   "cell_type": "code",
   "execution_count": 101,
   "metadata": {},
   "outputs": [
    {
     "name": "stdout",
     "output_type": "stream",
     "text": [
      "Acuratetea pe setul de date de test, cu cuvinte simple:  79.75 %. Matricea de confuzie:\n",
      "    |     pos      |     neg    \n",
      "--- + ------------ + ------------\n",
      "pos |     155      |      45    \n",
      "neg |      36      |     164    \n",
      "\n",
      "\n",
      "Acuratetea pe setul de date de test, cu bigrame:  71.0 %. Matricea de confuzie:\n",
      "    |     pos      |     neg    \n",
      "--- + ------------ + ------------\n",
      "pos |      97      |     103    \n",
      "neg |      13      |     187    \n"
     ]
    }
   ],
   "source": [
    "print(\"Acuratetea pe setul de date de test, cu cuvinte simple: \", acc_words * 100, \"%. Matricea de confuzie:\")\n",
    "print_confusion_matrix(cm_words)\n",
    "\n",
    "print(\"\\n\\nAcuratetea pe setul de date de test, cu bigrame: \", acc_bigrams * 100, \"%. Matricea de confuzie:\")\n",
    "print_confusion_matrix(cm_bigrams)\n"
   ]
  },
  {
   "cell_type": "code",
   "execution_count": null,
   "metadata": {
    "collapsed": true
   },
   "outputs": [],
   "source": []
  }
 ],
 "metadata": {
  "kernelspec": {
   "display_name": "Python 3",
   "language": "python",
   "name": "python3"
  },
  "language_info": {
   "codemirror_mode": {
    "name": "ipython",
    "version": 3
   },
   "file_extension": ".py",
   "mimetype": "text/x-python",
   "name": "python",
   "nbconvert_exporter": "python",
   "pygments_lexer": "ipython3",
   "version": "3.10.12"
  }
 },
 "nbformat": 4,
 "nbformat_minor": 1
}
